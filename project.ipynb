{
 "cells": [
  {
   "cell_type": "code",
   "execution_count": 11,
   "metadata": {},
   "outputs": [],
   "source": [
    "import requests\n",
    "from bs4 import BeautifulSoup\n",
    "import csv\n",
    "from datetime import datetime"
   ]
  },
  {
   "cell_type": "code",
   "execution_count": 12,
   "metadata": {},
   "outputs": [
    {
     "name": "stdout",
     "output_type": "stream",
     "text": [
      "2025-04-02 10:41:34,Title not found,Rating not found\n",
      "2025-04-02 10:41:52,Title not found,Rating not found\n",
      "2025-04-02 10:44:26,Got Data Funny Business Data Analyst T-Shirt,4.4 out of 5 stars\n",
      "2025-04-02 10:45:31,Got Data Funny Business Data Analyst T-Shirt,4.4 out of 5 stars\n",
      "2025-04-02 10:45:49,Title not found,Rating not found\n",
      "\n",
      "Data saved to AmazonWebScrapping.csv\n"
     ]
    }
   ],
   "source": [
    "\n",
    "\n",
    "# Amazon product URL\n",
    "url = \"https://www.amazon.com/Funny-Data-Systems-Business-Analyst/dp/B07FNW9FGJ\"\n",
    "\n",
    "# Headers to mimic a real browser visit\n",
    "headers = {\n",
    "    \"User-Agent\": \"Mozilla/5.0 (Windows NT 10.0; Win64; x64) AppleWebKit/537.36 (KHTML, like Gecko) Chrome/91.0.4472.124 Safari/537.36\",\n",
    "    \"Accept-Language\": \"en-US,en;q=0.9\",\n",
    "}\n",
    "\n",
    "# Send GET request\n",
    "response = requests.get(url, headers=headers)\n",
    "\n",
    "# Check if request was successful\n",
    "if response.status_code == 200:\n",
    "    soup = BeautifulSoup(response.content, \"html.parser\")\n",
    "    \n",
    "    # Extract product title\n",
    "    title = soup.find(\"span\", id=\"productTitle\")\n",
    "    product_name = title.get_text(strip=True) if title else \"Title not found\"\n",
    "    \n",
    "    # Extract product rating\n",
    "    rating = soup.find(\"span\", class_=\"a-icon-alt\")\n",
    "    product_rating = rating.get_text(strip=True) if rating else \"Rating not found\"\n",
    "    \n",
    "    # Create timestamp\n",
    "    timestamp = datetime.now().strftime(\"%Y-%m-%d %H:%M:%S\")\n",
    "    \n",
    "    # Write data to CSV file\n",
    "    csv_filename = \"AmazonWebScrapping.csv\"\n",
    "    with open(csv_filename, mode='a', newline='', encoding='utf-8') as file:\n",
    "        writer = csv.writer(file)\n",
    "        writer.writerow([timestamp, product_name, product_rating])\n",
    "    \n",
    "    # Read and display the CSV contents\n",
    "    with open(csv_filename, mode='r', encoding='utf-8') as file:\n",
    "        print(file.read())\n",
    "    \n",
    "    print(f\"Data saved to {csv_filename}\")\n",
    "else:\n",
    "    print(\"Failed to retrieve the page. Check your headers or try again later.\")\n"
   ]
  },
  {
   "cell_type": "code",
   "execution_count": null,
   "metadata": {},
   "outputs": [],
   "source": []
  }
 ],
 "metadata": {
  "kernelspec": {
   "display_name": "Python 3",
   "language": "python",
   "name": "python3"
  },
  "language_info": {
   "codemirror_mode": {
    "name": "ipython",
    "version": 3
   },
   "file_extension": ".py",
   "mimetype": "text/x-python",
   "name": "python",
   "nbconvert_exporter": "python",
   "pygments_lexer": "ipython3",
   "version": "3.11.9"
  }
 },
 "nbformat": 4,
 "nbformat_minor": 2
}
